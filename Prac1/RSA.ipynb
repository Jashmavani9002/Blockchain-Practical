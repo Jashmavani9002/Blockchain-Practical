{
 "cells": [
  {
   "cell_type": "code",
   "execution_count": 1,
   "metadata": {
    "colab": {
     "base_uri": "https://localhost:8080/"
    },
    "executionInfo": {
     "elapsed": 28495,
     "status": "ok",
     "timestamp": 1650603416910,
     "user": {
      "displayName": "SHUBH PATEL",
      "userId": "15218921820800869381"
     },
     "user_tz": -330
    },
    "id": "UPbDVb8QC0ml",
    "outputId": "053e45c9-7bdc-46ee-e4e8-e10cae18c013"
   },
   "outputs": [
    {
     "name": "stdin",
     "output_type": "stream",
     "text": [
      "> Take random values for p&q [y/n] :  y\n"
     ]
    },
    {
     "name": "stdout",
     "output_type": "stream",
     "text": [
      "[~] p =  463\n",
      "[~] q =  557\n",
      "[~] n =  257891\n",
      "[~] fN =  256872\n",
      "[+] PUBLIC KEY = {e= 5 , n= 257891 }\n",
      "[+] PRIVATE KEY = {d= 102749 , n= 257891 }\n"
     ]
    },
    {
     "name": "stdin",
     "output_type": "stream",
     "text": [
      "> Enter Message :  Hi I'm Jash\n"
     ]
    },
    {
     "name": "stdout",
     "output_type": "stream",
     "text": [
      "[enc] Cipher Text =  [219350, 47926, 28602, 143735, 220240, 204598, 28602, 112460, 85739, 137003, 5317]\n",
      "[dec] Decrypted Plain Text =  Hi I'm Jash\n"
     ]
    }
   ],
   "source": [
    "import random\n",
    "\n",
    "def check_prime(num):\n",
    "  if num > 1:\n",
    "    for i in range(2,num):\n",
    "        if (num % i) == 0:\n",
    "            return False\n",
    "            break\n",
    "    else:\n",
    "        return True\n",
    "  else:\n",
    "    return False\n",
    "\n",
    "def gcd(a,b):\n",
    "  if(a==0):\n",
    "    return b\n",
    "  return gcd(b%a,a)\n",
    "\n",
    "random_primes=[947,349,11,463,397,103,401,431,823,881,827,643,197,521,541,769,313,977,557,653,647,43,61,241,419,109,911,601,193,701,967,337,719,467,821,317,73,859,479,353,421,631,113,79,433,23,97,41,167,641,17,137,941,983,661,919,733,181,709,691,659,67,71,383,619,163,839,31,409,587,439,853,461,607,797,239,739,331,449,509,7,271,727,251,29,773,199,613,599,443,491,367,593,563,683,277,929,191,757]\n",
    "option=input(\"> Take random values for p&q [y/n] : \")\n",
    "if option==\"n\":\n",
    "  while True:\n",
    "    p=int(input(\"> Enter p : \"))\n",
    "    q=int(input(\"> Enter q : \"))\n",
    "    if(check_prime(p)== True and check_prime(q)==True):\n",
    "      break\n",
    "    else:\n",
    "      print(\"[ERROR] : p and q must be prime numbers.\")\n",
    "else:\n",
    "  p=random.choice(random_primes)\n",
    "  print(\"[~] p = \",p)\n",
    "  q=random.choice(random_primes)\n",
    "  print(\"[~] q = \",q)\n",
    "\n",
    "n=p*q\n",
    "fN=(p-1)*(q-1)\n",
    "for i in range(2,fN+1):\n",
    "  if(gcd(i,fN)==1):\n",
    "    e=i\n",
    "    break\n",
    "print(\"[~] n = \",n)\n",
    "print(\"[~] fN = \",fN)\n",
    "print(\"[+] PUBLIC KEY = {e=\",e,\", n=\",n,\"}\");\n",
    "for i in range(2,fN+1):\n",
    "  if(((i*e)%fN)==1):\n",
    "    d=i\n",
    "    break\n",
    "print(\"[+] PRIVATE KEY = {d=\",d,\", n=\",n,\"}\");12\n",
    "message=input(\"> Enter Message : \")\n",
    "ct=[]\n",
    "pt=[]\n",
    "#number encryption\n",
    "if message.strip().isdigit():\n",
    "  while int(message)>n:\n",
    "    print(\"[ERROR] value of message must be lesser than n got\",message)\n",
    "    message=input(\"> Enter Message : \")\n",
    "\n",
    "  ct = pow(int(message),e)%n\n",
    "  print(\"[enc] Cipher Text = \",ct)\n",
    "  pt = pow(ct,d)%n\n",
    "  print(\"[dec] Decrypted Plain Text = \",pt)\n",
    "#string encryption    \n",
    "else:\n",
    "  e_flag=0  \n",
    "  if len(message)>0:\n",
    "    #encryption\n",
    "    for i in range(len(message)):\n",
    "      if ord(message[i])<n:\n",
    "        ct.append(pow(ord(message[i]),e)%n)\n",
    "      else:\n",
    "        print(\"[ERROR] value of message must be lesser than n got\",ord(message[i]))\n",
    "        e_flag=1\n",
    "        break\n",
    "    if e_flag==0:    \n",
    "        print(\"[enc] Cipher Text = \",ct)\n",
    "        #decryption\n",
    "        for i in range(len(message)):\n",
    "          pt.append(chr(pow(ct[i],d)%n))\n",
    "        print(\"[dec] Decrypted Plain Text = \",''.join(pt))\n",
    "\n"
   ]
  },
  {
   "cell_type": "code",
   "execution_count": null,
   "metadata": {
    "id": "k-mJXvBoG4Ox"
   },
   "outputs": [],
   "source": []
  }
 ],
 "metadata": {
  "colab": {
   "collapsed_sections": [],
   "name": "RSA.ipynb",
   "provenance": []
  },
  "kernelspec": {
   "display_name": "Python 3 (ipykernel)",
   "language": "python",
   "name": "python3"
  },
  "language_info": {
   "codemirror_mode": {
    "name": "ipython",
    "version": 3
   },
   "file_extension": ".py",
   "mimetype": "text/x-python",
   "name": "python",
   "nbconvert_exporter": "python",
   "pygments_lexer": "ipython3",
   "version": "3.9.4"
  }
 },
 "nbformat": 4,
 "nbformat_minor": 4
}
