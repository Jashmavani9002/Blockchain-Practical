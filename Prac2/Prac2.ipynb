{
 "cells": [
  {
   "cell_type": "markdown",
   "metadata": {},
   "source": [
    "### Name: Jash Mavani \n",
    "### Roll No: 19BCE123 \n",
    "### Batch: EL2\n",
    "## Course Name & Course Code: 2CSDE93 & Blockchain Technology \n"
   ]
  },
  {
   "cell_type": "markdown",
   "metadata": {},
   "source": [
    "## Practical-2\n",
    "#### Aim: - To create a blockchain and implement replay attacks on blockchain"
   ]
  },
  {
   "cell_type": "code",
   "execution_count": 1,
   "metadata": {},
   "outputs": [],
   "source": [
    "import os\n",
    "import time\n",
    "from hashlib import sha256\n",
    "import pandas as pd"
   ]
  },
  {
   "cell_type": "markdown",
   "metadata": {},
   "source": [
    "# Block Class"
   ]
  },
  {
   "cell_type": "code",
   "execution_count": 2,
   "metadata": {},
   "outputs": [],
   "source": [
    "class Block:\n",
    "    def __init__(self, index, timestamp, data, prevhash):\n",
    "        self.index = str(index)\n",
    "        self.timestamp = str(timestamp)\n",
    "        self.data = str(data)\n",
    "        self.prevhash = str(prevhash)\n",
    "        \n",
    "    def computehash(self):\n",
    "        self.hash = sha256((self.index +'\\t' + self.data +'\\t' + self.timestamp +'\\t' + self.prevhash).encode()).digest()\n",
    "    \n",
    "    def __str__(self) -> str:\n",
    "        return f' HASH --- {self.hash}, DATA --- {self.data}, TIMESTAMP --- {self.timestamp}, PREVHASH --- {self.prevhash}'\n",
    "block = Block(0, time.time(), 'hello', None)    "
   ]
  },
  {
   "cell_type": "markdown",
   "metadata": {},
   "source": [
    "# Blockchain Class"
   ]
  },
  {
   "cell_type": "code",
   "execution_count": 3,
   "metadata": {},
   "outputs": [],
   "source": [
    "class BlockChain:\n",
    "    def __init__(self): \n",
    "        self.pointer = Block(0, time.time(), \"GENESIS\", None)\n",
    "        self.pointer.computehash()\n",
    "    \n",
    "    def add(self, block):\n",
    "        block.prevhash = str(self.pointer.hash)\n",
    "        block.computehash()\n",
    "        self.pointer = block"
   ]
  },
  {
   "cell_type": "markdown",
   "metadata": {},
   "source": [
    "# Initializing Chain"
   ]
  },
  {
   "cell_type": "code",
   "execution_count": 4,
   "metadata": {},
   "outputs": [],
   "source": [
    "blockChain = BlockChain()"
   ]
  },
  {
   "cell_type": "markdown",
   "metadata": {},
   "source": [
    "# Adding Blocks"
   ]
  },
  {
   "cell_type": "code",
   "execution_count": 5,
   "metadata": {},
   "outputs": [],
   "source": [
    "blocks = [Block(1, time.time(), '1', None), \n",
    "        Block(2, time.time(), '2', None), \n",
    "        Block(3, time.time(), '3', None), \n",
    "        Block(4, time.time(), '4', None),\n",
    "        Block(5, time.time(), '5', None),\n",
    "        Block(6, time.time(), '6', None),\n",
    "        Block(7, time.time(), '7', None),\n",
    "        Block(8, time.time(), '8', None),\n",
    "        Block(9, time.time(), '9', None),\n",
    "        Block(10, time.time(), '10', None),\n",
    "        ]\n",
    "values = []"
   ]
  },
  {
   "cell_type": "code",
   "execution_count": 6,
   "metadata": {},
   "outputs": [],
   "source": [
    "def validate(blocks):\n",
    "    print('validating')\n",
    "    last = len(blocks) - 1\n",
    "    for i in range(last-1, 0,-1):\n",
    "        print(blocks[i].hash,'--', blocks[last].prevhash)\n",
    "        print(last, i)\n",
    "        if (hash(blocks[i].hash) ^ hash(blocks[last].prevhash))==0:\n",
    "            return False\n",
    "        last -= 1\n",
    "    return True"
   ]
  },
  {
   "cell_type": "code",
   "execution_count": 7,
   "metadata": {},
   "outputs": [
    {
     "name": "stdout",
     "output_type": "stream",
     "text": [
      "validating\n",
      "b\"oT4\\x17\\xf5\\xc0\\x03\\n=\\xf8\\xa2G\\xcdD\\xd5\\xc5\\x88\\x1dH'\\xe7P\\x1fBJ\\xee\\xa8\\x11m\\x13\\x8a\\x80\" -- b\"oT4\\x17\\xf5\\xc0\\x03\\n=\\xf8\\xa2G\\xcdD\\xd5\\xc5\\x88\\x1dH'\\xe7P\\x1fBJ\\xee\\xa8\\x11m\\x13\\x8a\\x80\"\n",
      "9 8\n",
      "b'j\\xaa\"\\xb1\\xb4c^\\xb5\\xfa\\x8b`B\\x069F\\x07q6\\x0b\\xb6\\xfe\\xd4\\xb3#\\x015\\x89^\\xf8\\xb5\\xd3)' -- b'j\\xaa\"\\xb1\\xb4c^\\xb5\\xfa\\x8b`B\\x069F\\x07q6\\x0b\\xb6\\xfe\\xd4\\xb3#\\x015\\x89^\\xf8\\xb5\\xd3)'\n",
      "8 7\n",
      "b'x\\xe9\\x1aW\\xfe\\x9ak\\x8bw\\xee|\\x0e\\x93\\x8ah\\xc5_\\xfa\\xcd\\xad\\x82\\x95\\xb8J\\xfc\\xc4\\xf3\\n\\xcc\\x1a\\x01\\xf3' -- b'x\\xe9\\x1aW\\xfe\\x9ak\\x8bw\\xee|\\x0e\\x93\\x8ah\\xc5_\\xfa\\xcd\\xad\\x82\\x95\\xb8J\\xfc\\xc4\\xf3\\n\\xcc\\x1a\\x01\\xf3'\n",
      "7 6\n",
      "b'\\xc4U\\xdcNy0\\xa0\\xfbWj\\xb6^\\x1c\\x07:\\xcb> h\\xd5&\\xd3\\xc3\\x9a\\xcf\\xba\\xb2\\x16\\xf3\\x95\\xe3&' -- b'\\xc4U\\xdcNy0\\xa0\\xfbWj\\xb6^\\x1c\\x07:\\xcb> h\\xd5&\\xd3\\xc3\\x9a\\xcf\\xba\\xb2\\x16\\xf3\\x95\\xe3&'\n",
      "6 5\n",
      "b'\\t\\x0c\\xe5_\\xf03R\\xda\\x83\\xac\\xce\\x90|I\\x8b\\xd0\\xc8\\xc1\\x8e}\\xde\\xa2\\xbf\\x96Q|Z\\xf9\\xb4M\\xed^' -- b'\\t\\x0c\\xe5_\\xf03R\\xda\\x83\\xac\\xce\\x90|I\\x8b\\xd0\\xc8\\xc1\\x8e}\\xde\\xa2\\xbf\\x96Q|Z\\xf9\\xb4M\\xed^'\n",
      "5 4\n",
      "b'\\x94Ss\\x00n\\x89\\x8a\\x02$\\xf1\\xdf#MF\\x12\\xe1w\\xc9\\xa8Y\\x8e\\x03j\\xae\\xc6\\xcdO\\xb08N\\x1d\\xf4' -- b'\\x94Ss\\x00n\\x89\\x8a\\x02$\\xf1\\xdf#MF\\x12\\xe1w\\xc9\\xa8Y\\x8e\\x03j\\xae\\xc6\\xcdO\\xb08N\\x1d\\xf4'\n",
      "4 3\n",
      "b'\\xb0ZO\\x83\\xdc\\xf9i\\xa0bVz:q5#\\xe2Y\\x12\\xe1\\xb1\\x15\\x89&\\x8c)\\x85`\"\\xc6\\xc0]\\r' -- b'\\xb0ZO\\x83\\xdc\\xf9i\\xa0bVz:q5#\\xe2Y\\x12\\xe1\\xb1\\x15\\x89&\\x8c)\\x85`\"\\xc6\\xc0]\\r'\n",
      "3 2\n",
      "b'g\\x94U*\\xdbD\\xb4\\xbe\\x17D\\x13\\xb0\\xe8\\xa0\\x07\\x82\\xf1\\xc8I\\xf7\\x8c\\x178\\xc5U\\xcf\\x04~\\xd0\\xe6\\xc8\\x1a' -- b'g\\x94U*\\xdbD\\xb4\\xbe\\x17D\\x13\\xb0\\xe8\\xa0\\x07\\x82\\xf1\\xc8I\\xf7\\x8c\\x178\\xc5U\\xcf\\x04~\\xd0\\xe6\\xc8\\x1a'\n",
      "2 1\n"
     ]
    },
    {
     "data": {
      "text/plain": [
       "True"
      ]
     },
     "execution_count": 7,
     "metadata": {},
     "output_type": "execute_result"
    }
   ],
   "source": [
    "for i in blocks:    \n",
    "    blockChain.add(i)\n",
    "    values.append([i.index, i.data, str(i.hash), i.prevhash])\n",
    "validate(blocks)"
   ]
  },
  {
   "cell_type": "markdown",
   "metadata": {},
   "source": [
    "# Creating dataframe for easy visualization "
   ]
  },
  {
   "cell_type": "code",
   "execution_count": 8,
   "metadata": {},
   "outputs": [],
   "source": [
    "df = pd.DataFrame(values,columns=['Index', 'Data', 'Current Hash', 'Prev Hash'])"
   ]
  },
  {
   "cell_type": "code",
   "execution_count": 9,
   "metadata": {},
   "outputs": [
    {
     "data": {
      "text/html": [
       "<div>\n",
       "<style scoped>\n",
       "    .dataframe tbody tr th:only-of-type {\n",
       "        vertical-align: middle;\n",
       "    }\n",
       "\n",
       "    .dataframe tbody tr th {\n",
       "        vertical-align: top;\n",
       "    }\n",
       "\n",
       "    .dataframe thead th {\n",
       "        text-align: right;\n",
       "    }\n",
       "</style>\n",
       "<table border=\"1\" class=\"dataframe\">\n",
       "  <thead>\n",
       "    <tr style=\"text-align: right;\">\n",
       "      <th></th>\n",
       "      <th>Index</th>\n",
       "      <th>Data</th>\n",
       "      <th>Current Hash</th>\n",
       "      <th>Prev Hash</th>\n",
       "    </tr>\n",
       "  </thead>\n",
       "  <tbody>\n",
       "    <tr>\n",
       "      <th>0</th>\n",
       "      <td>1</td>\n",
       "      <td>1</td>\n",
       "      <td>b\"\\xfe\\xdd\\xabB\\xbazkm'\\xc4\\x9eK\\xf2\\xf9%\\xa1\\...</td>\n",
       "      <td>b'NQ8\\xb41\\xfc\\x87\\xc0w\\xdd\\x0e\\xf2\\xd6\\x82#\\x...</td>\n",
       "    </tr>\n",
       "    <tr>\n",
       "      <th>1</th>\n",
       "      <td>2</td>\n",
       "      <td>2</td>\n",
       "      <td>b'g\\x94U*\\xdbD\\xb4\\xbe\\x17D\\x13\\xb0\\xe8\\xa0\\x0...</td>\n",
       "      <td>b\"\\xfe\\xdd\\xabB\\xbazkm'\\xc4\\x9eK\\xf2\\xf9%\\xa1\\...</td>\n",
       "    </tr>\n",
       "    <tr>\n",
       "      <th>2</th>\n",
       "      <td>3</td>\n",
       "      <td>3</td>\n",
       "      <td>b'\\xb0ZO\\x83\\xdc\\xf9i\\xa0bVz:q5#\\xe2Y\\x12\\xe1\\...</td>\n",
       "      <td>b'g\\x94U*\\xdbD\\xb4\\xbe\\x17D\\x13\\xb0\\xe8\\xa0\\x0...</td>\n",
       "    </tr>\n",
       "    <tr>\n",
       "      <th>3</th>\n",
       "      <td>4</td>\n",
       "      <td>4</td>\n",
       "      <td>b'\\x94Ss\\x00n\\x89\\x8a\\x02$\\xf1\\xdf#MF\\x12\\xe1w...</td>\n",
       "      <td>b'\\xb0ZO\\x83\\xdc\\xf9i\\xa0bVz:q5#\\xe2Y\\x12\\xe1\\...</td>\n",
       "    </tr>\n",
       "    <tr>\n",
       "      <th>4</th>\n",
       "      <td>5</td>\n",
       "      <td>5</td>\n",
       "      <td>b'\\t\\x0c\\xe5_\\xf03R\\xda\\x83\\xac\\xce\\x90|I\\x8b\\...</td>\n",
       "      <td>b'\\x94Ss\\x00n\\x89\\x8a\\x02$\\xf1\\xdf#MF\\x12\\xe1w...</td>\n",
       "    </tr>\n",
       "    <tr>\n",
       "      <th>5</th>\n",
       "      <td>6</td>\n",
       "      <td>6</td>\n",
       "      <td>b'\\xc4U\\xdcNy0\\xa0\\xfbWj\\xb6^\\x1c\\x07:\\xcb&gt; h\\...</td>\n",
       "      <td>b'\\t\\x0c\\xe5_\\xf03R\\xda\\x83\\xac\\xce\\x90|I\\x8b\\...</td>\n",
       "    </tr>\n",
       "    <tr>\n",
       "      <th>6</th>\n",
       "      <td>7</td>\n",
       "      <td>7</td>\n",
       "      <td>b'x\\xe9\\x1aW\\xfe\\x9ak\\x8bw\\xee|\\x0e\\x93\\x8ah\\x...</td>\n",
       "      <td>b'\\xc4U\\xdcNy0\\xa0\\xfbWj\\xb6^\\x1c\\x07:\\xcb&gt; h\\...</td>\n",
       "    </tr>\n",
       "    <tr>\n",
       "      <th>7</th>\n",
       "      <td>8</td>\n",
       "      <td>8</td>\n",
       "      <td>b'j\\xaa\"\\xb1\\xb4c^\\xb5\\xfa\\x8b`B\\x069F\\x07q6\\x...</td>\n",
       "      <td>b'x\\xe9\\x1aW\\xfe\\x9ak\\x8bw\\xee|\\x0e\\x93\\x8ah\\x...</td>\n",
       "    </tr>\n",
       "    <tr>\n",
       "      <th>8</th>\n",
       "      <td>9</td>\n",
       "      <td>9</td>\n",
       "      <td>b\"oT4\\x17\\xf5\\xc0\\x03\\n=\\xf8\\xa2G\\xcdD\\xd5\\xc5...</td>\n",
       "      <td>b'j\\xaa\"\\xb1\\xb4c^\\xb5\\xfa\\x8b`B\\x069F\\x07q6\\x...</td>\n",
       "    </tr>\n",
       "    <tr>\n",
       "      <th>9</th>\n",
       "      <td>10</td>\n",
       "      <td>10</td>\n",
       "      <td>b'\\x1fZs\\x12fe\\x05\\xdb\\xed\\xa0N\\x8c8^\\xcc\\xd8\\...</td>\n",
       "      <td>b\"oT4\\x17\\xf5\\xc0\\x03\\n=\\xf8\\xa2G\\xcdD\\xd5\\xc5...</td>\n",
       "    </tr>\n",
       "  </tbody>\n",
       "</table>\n",
       "</div>"
      ],
      "text/plain": [
       "  Index Data                                       Current Hash  \\\n",
       "0     1    1  b\"\\xfe\\xdd\\xabB\\xbazkm'\\xc4\\x9eK\\xf2\\xf9%\\xa1\\...   \n",
       "1     2    2  b'g\\x94U*\\xdbD\\xb4\\xbe\\x17D\\x13\\xb0\\xe8\\xa0\\x0...   \n",
       "2     3    3  b'\\xb0ZO\\x83\\xdc\\xf9i\\xa0bVz:q5#\\xe2Y\\x12\\xe1\\...   \n",
       "3     4    4  b'\\x94Ss\\x00n\\x89\\x8a\\x02$\\xf1\\xdf#MF\\x12\\xe1w...   \n",
       "4     5    5  b'\\t\\x0c\\xe5_\\xf03R\\xda\\x83\\xac\\xce\\x90|I\\x8b\\...   \n",
       "5     6    6  b'\\xc4U\\xdcNy0\\xa0\\xfbWj\\xb6^\\x1c\\x07:\\xcb> h\\...   \n",
       "6     7    7  b'x\\xe9\\x1aW\\xfe\\x9ak\\x8bw\\xee|\\x0e\\x93\\x8ah\\x...   \n",
       "7     8    8  b'j\\xaa\"\\xb1\\xb4c^\\xb5\\xfa\\x8b`B\\x069F\\x07q6\\x...   \n",
       "8     9    9  b\"oT4\\x17\\xf5\\xc0\\x03\\n=\\xf8\\xa2G\\xcdD\\xd5\\xc5...   \n",
       "9    10   10  b'\\x1fZs\\x12fe\\x05\\xdb\\xed\\xa0N\\x8c8^\\xcc\\xd8\\...   \n",
       "\n",
       "                                           Prev Hash  \n",
       "0  b'NQ8\\xb41\\xfc\\x87\\xc0w\\xdd\\x0e\\xf2\\xd6\\x82#\\x...  \n",
       "1  b\"\\xfe\\xdd\\xabB\\xbazkm'\\xc4\\x9eK\\xf2\\xf9%\\xa1\\...  \n",
       "2  b'g\\x94U*\\xdbD\\xb4\\xbe\\x17D\\x13\\xb0\\xe8\\xa0\\x0...  \n",
       "3  b'\\xb0ZO\\x83\\xdc\\xf9i\\xa0bVz:q5#\\xe2Y\\x12\\xe1\\...  \n",
       "4  b'\\x94Ss\\x00n\\x89\\x8a\\x02$\\xf1\\xdf#MF\\x12\\xe1w...  \n",
       "5  b'\\t\\x0c\\xe5_\\xf03R\\xda\\x83\\xac\\xce\\x90|I\\x8b\\...  \n",
       "6  b'\\xc4U\\xdcNy0\\xa0\\xfbWj\\xb6^\\x1c\\x07:\\xcb> h\\...  \n",
       "7  b'x\\xe9\\x1aW\\xfe\\x9ak\\x8bw\\xee|\\x0e\\x93\\x8ah\\x...  \n",
       "8  b'j\\xaa\"\\xb1\\xb4c^\\xb5\\xfa\\x8b`B\\x069F\\x07q6\\x...  \n",
       "9  b\"oT4\\x17\\xf5\\xc0\\x03\\n=\\xf8\\xa2G\\xcdD\\xd5\\xc5...  "
      ]
     },
     "execution_count": 9,
     "metadata": {},
     "output_type": "execute_result"
    }
   ],
   "source": [
    "df"
   ]
  },
  {
   "cell_type": "code",
   "execution_count": null,
   "metadata": {},
   "outputs": [],
   "source": []
  }
 ],
 "metadata": {
  "kernelspec": {
   "display_name": "Python 3 (ipykernel)",
   "language": "python",
   "name": "python3"
  },
  "language_info": {
   "codemirror_mode": {
    "name": "ipython",
    "version": 3
   },
   "file_extension": ".py",
   "mimetype": "text/x-python",
   "name": "python",
   "nbconvert_exporter": "python",
   "pygments_lexer": "ipython3",
   "version": "3.9.4"
  },
  "vscode": {
   "interpreter": {
    "hash": "9dbf8f4c165eb0b71c72ee397a4a34a0cbf4814bae4fb3ea460f3ccc58581f59"
   }
  }
 },
 "nbformat": 4,
 "nbformat_minor": 4
}
