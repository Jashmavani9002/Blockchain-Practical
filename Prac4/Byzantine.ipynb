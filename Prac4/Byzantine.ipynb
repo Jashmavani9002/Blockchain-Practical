{
  "nbformat": 4,
  "nbformat_minor": 0,
  "metadata": {
    "colab": {
      "provenance": []
    },
    "kernelspec": {
      "name": "python3",
      "display_name": "Python 3"
    },
    "language_info": {
      "name": "python"
    }
  },
  "cells": [
    {
      "cell_type": "markdown",
      "source": [
        "**Name: Dhairya Jadav**\n",
        "\n",
        "**Roll no: 19BCE050**\n",
        "\n",
        "**Practical 4**\n",
        "\n",
        "**Aim - Byzantine Fault Tolerance**"
      ],
      "metadata": {
        "id": "ejwuOk-pSdX9"
      }
    },
    {
      "cell_type": "code",
      "execution_count": 10,
      "metadata": {
        "id": "t5dbQLVcBl5p"
      },
      "outputs": [],
      "source": [
        "from collections import Counter"
      ]
    },
    {
      "cell_type": "code",
      "source": [
        "class General:\n",
        "  def __init__(self, id, is_traitor=False):\n",
        "    self.id = id\n",
        "    self.other_generals = []\n",
        "    self.orders = []\n",
        "    self.is_traitor = is_traitor\n",
        "  def __call__(self, m, order):\n",
        "    self.om_algorithm(commander=self, m=m, order=order)\n",
        "  def _next_order(self, is_traitor, order, i):\n",
        "    if is_traitor:\n",
        "      if i%2==0:\n",
        "        return \"Attack\" if order==\"Retreat\" else \"Retreat\"\n",
        "    return order\n",
        "  def om_algorithm(self, commander, m, order):\n",
        "    if m<0:\n",
        "      self.orders.append(order)\n",
        "    elif m==0:\n",
        "      for i, l in enumerate(self.other_generals):\n",
        "        l.om_algorithm(commander=self, m=(m-1), order=self._next_order(self.is_traitor, order, i))\n",
        "    else:\n",
        "      for i, l in enumerate(self.other_generals):\n",
        "        if i is not self and l is not commander:\n",
        "          l.om_algorithm(commander=self, m=(m-1), order=self._next_order(self.is_traitor, order, i))\n",
        "  \n",
        "  def decision(self):\n",
        "    c = Counter(self.orders)\n",
        "    return (c.most_common())"
      ],
      "metadata": {
        "id": "O7rP7bAoJry4"
      },
      "execution_count": 11,
      "outputs": []
    },
    {
      "cell_type": "code",
      "source": [
        "def init_generals(generals_spec):\n",
        "  generals = []\n",
        "  for i, spec in enumerate(generals_spec):\n",
        "    #print(i,spec)\n",
        "    general = General(i)\n",
        "    if spec == \"l\":\n",
        "      pass\n",
        "    elif spec == \"t\":\n",
        "      general.is_traitor = True\n",
        "    else:\n",
        "      print(\"Incorrect input\")\n",
        "      exit(1)\n",
        "    generals.append(general)\n",
        "  \n",
        "  for general in generals:\n",
        "    general.other_generals = generals\n",
        "  return generals\n"
      ],
      "metadata": {
        "id": "fxBz3emRL2Wz"
      },
      "execution_count": 12,
      "outputs": []
    },
    {
      "cell_type": "code",
      "source": [
        "def print_decision(generals):\n",
        "  for i, l in enumerate(generals):\n",
        "    print(\"General {}: {}\".format(i, l.decision()))"
      ],
      "metadata": {
        "id": "rczg7v0cPijg"
      },
      "execution_count": 13,
      "outputs": []
    },
    {
      "cell_type": "code",
      "source": [
        "m = 0\n",
        "g = \"l, l, l\"\n",
        "o = \"Attack\""
      ],
      "metadata": {
        "id": "-O3JVoeTQwqs"
      },
      "execution_count": 14,
      "outputs": []
    },
    {
      "cell_type": "code",
      "source": [
        "generals_spec = [x.strip() for x in g.split(',')]\n",
        "print(generals_spec)\n",
        "generals = init_generals(generals_spec=generals_spec)\n",
        "generals[0](m=m, order=o)\n",
        "print_decision(generals)"
      ],
      "metadata": {
        "colab": {
          "base_uri": "https://localhost:8080/",
          "height": 0
        },
        "id": "PKGZR_SoQ27_",
        "outputId": "ec3757aa-e404-4f4a-d2b5-d0702703189a"
      },
      "execution_count": 15,
      "outputs": [
        {
          "output_type": "stream",
          "name": "stdout",
          "text": [
            "['l', 'l', 'l']\n",
            "General 0: [('Attack', 1)]\n",
            "General 1: [('Attack', 1)]\n",
            "General 2: [('Attack', 1)]\n"
          ]
        }
      ]
    },
    {
      "cell_type": "code",
      "source": [
        "m = 4\n",
        "g = \"l, l, t, t, l, t, l, l, t, l\"\n",
        "o = \"Attack\""
      ],
      "metadata": {
        "id": "3N7AGvA-RRHm"
      },
      "execution_count": 18,
      "outputs": []
    },
    {
      "cell_type": "code",
      "source": [
        "generals_spec = [x.strip() for x in g.split(',')]\n",
        "print(generals_spec)\n",
        "generals = init_generals(generals_spec=generals_spec)\n",
        "generals[0](m=m, order=o)\n",
        "print_decision(generals)"
      ],
      "metadata": {
        "colab": {
          "base_uri": "https://localhost:8080/",
          "height": 0
        },
        "id": "w7qP11K9RYrN",
        "outputId": "49cbd1d6-cd45-451f-ef7e-73dbcf8c3dbe"
      },
      "execution_count": 19,
      "outputs": [
        {
          "output_type": "stream",
          "name": "stdout",
          "text": [
            "['l', 'l', 't', 't', 'l', 't', 'l', 'l', 't', 'l']\n",
            "General 0: [('Attack', 3309), ('Retreat', 3252)]\n",
            "General 1: [('Attack', 3893), ('Retreat', 2668)]\n",
            "General 2: [('Attack', 3309), ('Retreat', 3252)]\n",
            "General 3: [('Attack', 3893), ('Retreat', 2668)]\n",
            "General 4: [('Attack', 3309), ('Retreat', 3252)]\n",
            "General 5: [('Attack', 3893), ('Retreat', 2668)]\n",
            "General 6: [('Attack', 3309), ('Retreat', 3252)]\n",
            "General 7: [('Attack', 3893), ('Retreat', 2668)]\n",
            "General 8: [('Attack', 3309), ('Retreat', 3252)]\n",
            "General 9: [('Attack', 3893), ('Retreat', 2668)]\n"
          ]
        }
      ]
    }
  ]
}